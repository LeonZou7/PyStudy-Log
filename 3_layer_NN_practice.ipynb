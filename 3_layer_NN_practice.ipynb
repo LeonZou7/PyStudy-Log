{
  "nbformat": 4,
  "nbformat_minor": 0,
  "metadata": {
    "colab": {
      "name": "Untitled0.ipynb",
      "version": "0.3.2",
      "provenance": [],
      "include_colab_link": true
    },
    "kernelspec": {
      "name": "python3",
      "display_name": "Python 3"
    }
  },
  "cells": [
    {
      "cell_type": "markdown",
      "metadata": {
        "id": "view-in-github",
        "colab_type": "text"
      },
      "source": [
        "<a href=\"https://colab.research.google.com/github/LeonZou7/TF-Study-Log/blob/master/3_layer_NN_practice.ipynb\" target=\"_parent\"><img src=\"https://colab.research.google.com/assets/colab-badge.svg\" alt=\"Open In Colab\"/></a>"
      ]
    },
    {
      "cell_type": "code",
      "metadata": {
        "id": "jTuaZsKNTmqG",
        "colab_type": "code",
        "outputId": "7f203319-2e72-4edf-f8bf-190eec1f4472",
        "colab": {
          "base_uri": "https://localhost:8080/",
          "height": 353
        }
      },
      "source": [
        "# Example 3\n",
        "# 简单的三层神经网络：输入 -> 隐藏层 -> 输出\n",
        "\n",
        "import tensorflow as tf\n",
        "import numpy as np\n",
        "\n",
        "\n",
        "def add_layer(inputs, in_size, out_size, activation_function=None):\n",
        "  # 定义两个参数并初始化，Weights是随机矩阵\n",
        "  Weights = tf.Variable(tf.random_normal([in_size, out_size]))\n",
        "  # biaes设置为一个数列，并且初始化时不推荐为0\n",
        "  biaes = tf.Variable(tf.zeros([1, out_size]) + 0.1)\n",
        "  \n",
        "  # 输出的预测值 = inputs * Weights + biaes\n",
        "  Wx_plus_b = tf.matmul(inputs, Weights) + biaes\n",
        "  \n",
        "  # 使用激活函数\n",
        "  if activation_function is None:\n",
        "    outputs = Wx_plus_b\n",
        "  else:\n",
        "    outputs = activation_function(Wx_plus_b)\n",
        "    \n",
        "  return outputs\n",
        "\n",
        "\n",
        "### 定义数据形式 start ###\n",
        "# x_data有300行1列，从-1到1之间的数据。newaxis：定义维度\n",
        "x_data = np.linspace(-1, 1, 300)[:, np.newaxis]\n",
        "# 定义噪声数据，用于干扰训练数据，使其更像真实数据\n",
        "noise = np.random.normal(0, 0.05, x_data.shape)\n",
        "# 输出值 = x_data**2 - 0.5 + noise\n",
        "y_data = np.square(x_data) - 0.5 + noise\n",
        "### 定义数据形式 end ###\n",
        "\n",
        "# 定义xs、ys，用于传入神经网络中进行训练\n",
        "xs = tf.placeholder(tf.float32, [None, 1])\n",
        "ys = tf.placeholder(tf.float32, [None, 1])\n",
        "\n",
        "'''\n",
        "添加隐藏层和输出层（输入层已固定）\n",
        "由于输入和输出值各只有一个特征（x_data: linspace; y_data: square），\n",
        "所以输入层和输出层各有1个神经元\n",
        "自定义隐藏层中有10个神经元\n",
        "结构图: 1 -> 10 -> 1\n",
        "'''\n",
        "l1 = add_layer(xs, 1, 10, tf.nn.relu)\n",
        "prediction = add_layer(l1, 10, 1, None)\n",
        "\n",
        "# 定义残差avr_loss（均值）\n",
        "loss = tf.reduce_sum(tf.square(ys - prediction), reduction_indices=[1])\n",
        "avr_loss = tf.reduce_mean(loss)\n",
        "\n",
        "# 训练步骤：使用梯度下降优化器缩小残差，学习率自定义为0.1\n",
        "train_step = tf.train.GradientDescentOptimizer(0.1).minimize(avr_loss)\n",
        "\n",
        "# 初始化变量和定义Session\n",
        "init = tf.global_variables_initializer()\n",
        "sess = tf.Session()\n",
        "\n",
        "# 开始训练\n",
        "sess.run(init)\n",
        "for i in range(1000):\n",
        "  sess.run(train_step, feed_dict={xs:x_data, ys:y_data})\n",
        "  if i % 50 == 0:\n",
        "    print(sess.run(avr_loss, feed_dict={xs:x_data, ys:y_data}))"
      ],
      "execution_count": 10,
      "outputs": [
        {
          "output_type": "stream",
          "text": [
            "0.25145274\n",
            "0.0104608815\n",
            "0.008475432\n",
            "0.0076399897\n",
            "0.007024423\n",
            "0.0065586246\n",
            "0.006186352\n",
            "0.0058394717\n",
            "0.005523775\n",
            "0.005244641\n",
            "0.0050336123\n",
            "0.004873405\n",
            "0.0047459626\n",
            "0.0046416023\n",
            "0.0045540626\n",
            "0.004479131\n",
            "0.004411471\n",
            "0.004355242\n",
            "0.0043074754\n",
            "0.0042670253\n"
          ],
          "name": "stdout"
        }
      ]
    }
  ]
}