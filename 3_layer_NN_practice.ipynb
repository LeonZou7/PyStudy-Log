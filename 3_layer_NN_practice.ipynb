{
  "nbformat": 4,
  "nbformat_minor": 0,
  "metadata": {
    "colab": {
      "name": "Untitled0.ipynb",
      "version": "0.3.2",
      "provenance": [],
      "include_colab_link": true
    },
    "kernelspec": {
      "name": "python3",
      "display_name": "Python 3"
    }
  },
  "cells": [
    {
      "cell_type": "markdown",
      "metadata": {
        "id": "view-in-github",
        "colab_type": "text"
      },
      "source": [
        "<a href=\"https://colab.research.google.com/github/LeonZou7/TF-Study-Log/blob/master/3_layer_NN_practice.ipynb\" target=\"_parent\"><img src=\"https://colab.research.google.com/assets/colab-badge.svg\" alt=\"Open In Colab\"/></a>"
      ]
    },
    {
      "cell_type": "code",
      "metadata": {
        "id": "jTuaZsKNTmqG",
        "colab_type": "code",
        "outputId": "6468dc15-7bea-49df-90b9-d3e4d2df4bc6",
        "colab": {
          "base_uri": "https://localhost:8080/",
          "height": 605
        }
      },
      "source": [
        "# Example 3\n",
        "# 简单的三层神经网络：输入 -> 隐藏层 -> 输出\n",
        "# 结果可视化\n",
        "\n",
        "import tensorflow as tf\n",
        "import numpy as np\n",
        "import matplotlib.pyplot as plt\n",
        "\n",
        "\n",
        "def add_layer(inputs, in_size, out_size, activation_function=None):\n",
        "  # 定义两个参数并初始化，Weights是随机矩阵\n",
        "  Weights = tf.Variable(tf.random_normal([in_size, out_size]))\n",
        "  # biaes设置为一个数列，并且初始化时不推荐为0\n",
        "  biaes = tf.Variable(tf.zeros([1, out_size]) + 0.1)\n",
        "  \n",
        "  # 输出的预测值 = inputs * Weights + biaes\n",
        "  Wx_plus_b = tf.matmul(inputs, Weights) + biaes\n",
        "  \n",
        "  # 使用激活函数\n",
        "  if activation_function is None:\n",
        "    outputs = Wx_plus_b\n",
        "  else:\n",
        "    outputs = activation_function(Wx_plus_b)\n",
        "    \n",
        "  return outputs\n",
        "\n",
        "\n",
        "### 定义数据形式 start ###\n",
        "# x_data有300行1列，从-1到1之间的数据。newaxis：定义维度\n",
        "x_data = np.linspace(-1, 1, 300)[:, np.newaxis]\n",
        "# 定义噪声数据，用于干扰训练数据，使其更像真实数据\n",
        "noise = np.random.normal(0, 0.05, x_data.shape)\n",
        "# 输出值 = x_data**2 - 0.5 + noise\n",
        "y_data = np.square(x_data) - 0.5 + noise\n",
        "### 定义数据形式 end ###\n",
        "\n",
        "# 定义xs、ys，用于传入神经网络中进行训练\n",
        "xs = tf.placeholder(tf.float32, [None, 1])\n",
        "ys = tf.placeholder(tf.float32, [None, 1])\n",
        "\n",
        "'''\n",
        "添加隐藏层和输出层（输入层已固定）\n",
        "由于输入和输出值各只有一个特征（x_data: linspace; y_data: square），\n",
        "所以输入层和输出层各有1个神经元\n",
        "隐藏层中有10个神经元（自定义）\n",
        "结构示意图: 1 -> 10 -> 1\n",
        "'''\n",
        "l1 = add_layer(xs, 1, 10, tf.nn.relu)\n",
        "prediction = add_layer(l1, 10, 1, None)\n",
        "\n",
        "# 定义残差avr_loss（均值）\n",
        "loss = tf.reduce_sum(tf.square(ys - prediction), reduction_indices=[1])\n",
        "avr_loss = tf.reduce_mean(loss)\n",
        "\n",
        "# 训练步骤：使用梯度下降优化器缩小残差，学习率自定义为0.1\n",
        "train_step = tf.train.GradientDescentOptimizer(0.1).minimize(avr_loss)\n",
        "\n",
        "# 初始化变量和定义Session\n",
        "init = tf.global_variables_initializer()\n",
        "sess = tf.Session()\n",
        "\n",
        "# 开始训练 实现可视化\n",
        "sess.run(init)\n",
        "\n",
        "fig = plt.figure()\n",
        "ax = fig.add_subplot(1, 1, 1)\n",
        "ax.scatter(x_data, y_data)\n",
        "plt.ion()\n",
        "plt.show()\n",
        "\n",
        "for i in range(1000):\n",
        "  sess.run(train_step, feed_dict={xs:x_data, ys:y_data})\n",
        "  if i % 50 == 0:\n",
        "    print(sess.run(avr_loss, feed_dict={xs:x_data, ys:y_data}))\n",
        "    try:\n",
        "      ax.lines.remove(lines[0])\n",
        "    except Exception:\n",
        "      pass\n",
        "    prediction_value = sess.run(prediction, feed_dict={xs:x_data})\n",
        "    lines = ax.plot(x_data, prediction_value, 'r-', lw=5)\n",
        "    plt.pause(0.1)"
      ],
      "execution_count": 21,
      "outputs": [
        {
          "output_type": "display_data",
          "data": {
            "image/png": "[encoded data removed]",
            "text/plain": [
              "<Figure size 432x288 with 1 Axes>"
            ]
          },
          "metadata": {
            "tags": []
          }
        },
        {
          "output_type": "stream",
          "text": [
            "0.1929644\n",
            "0.01679646\n",
            "0.011233172\n",
            "0.008939892\n",
            "0.0076096565\n",
            "0.006772952\n",
            "0.006201455\n",
            "0.005805505\n",
            "0.0055372776\n",
            "0.0053361775\n",
            "0.005164903\n",
            "0.0050436384\n",
            "0.004947148\n",
            "0.0048668617\n",
            "0.004798372\n",
            "0.0047384803\n",
            "0.0046880175\n",
            "0.0046386216\n",
            "0.004588249\n",
            "0.004541122\n"
          ],
          "name": "stdout"
        }
      ]
    }
  ]
}