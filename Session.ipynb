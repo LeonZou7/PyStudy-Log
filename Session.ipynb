{
  "nbformat": 4,
  "nbformat_minor": 0,
  "metadata": {
    "colab": {
      "name": "Untitled0.ipynb",
      "version": "0.3.2",
      "provenance": [],
      "include_colab_link": true
    },
    "kernelspec": {
      "name": "python3",
      "display_name": "Python 3"
    }
  },
  "cells": [
    {
      "cell_type": "markdown",
      "metadata": {
        "id": "view-in-github",
        "colab_type": "text"
      },
      "source": [
        "<a href=\"https://colab.research.google.com/github/LeonZou7/TF-Study-Log/blob/master/Session.ipynb\" target=\"_parent\"><img src=\"https://colab.research.google.com/assets/colab-badge.svg\" alt=\"Open In Colab\"/></a>"
      ]
    },
    {
      "cell_type": "markdown",
      "metadata": {
        "id": "dN2AYOXhXXGz",
        "colab_type": "text"
      },
      "source": [
        "**Session的三种用法**"
      ]
    },
    {
      "cell_type": "code",
      "metadata": {
        "id": "RAtIPgDhXkD5",
        "colab_type": "code",
        "colab": {
          "base_uri": "https://localhost:8080/",
          "height": 50
        },
        "outputId": "57599a88-8d0a-4b29-8afb-becc89b05ce3"
      },
      "source": [
        "import tensorflow as tf\n",
        "\n",
        "matrix1 = tf.constant([[1., 2., 3.],\n",
        "                       [4., 5., 6.]])\n",
        "\n",
        "matrix2 = tf.constant([[1., 2.],\n",
        "                       [3., 4.],\n",
        "                       [5., 6.]])\n",
        "\n",
        "# matrix multiply as np.dot(m1, m2)\n",
        "product = tf.matmul(matrix1, matrix2)\n",
        "\n",
        "sess = tf.Session()\n",
        "\n",
        "result = sess.run(product)\n",
        "print(result)\n",
        "\n",
        "sess.close()"
      ],
      "execution_count": 8,
      "outputs": [
        {
          "output_type": "stream",
          "text": [
            "[[22. 28.]\n",
            " [49. 64.]]\n"
          ],
          "name": "stdout"
        }
      ]
    },
    {
      "cell_type": "code",
      "metadata": {
        "id": "iBKJMlG2XqJh",
        "colab_type": "code",
        "colab": {
          "base_uri": "https://localhost:8080/",
          "height": 50
        },
        "outputId": "0aa62364-6bde-46fd-f3a9-241437258302"
      },
      "source": [
        "import tensorflow as tf\n",
        "\n",
        "matrix1 = tf.constant([[1., 2., 3.],\n",
        "                       [4., 5., 6.]])\n",
        "\n",
        "matrix2 = tf.constant([[1., 2.],\n",
        "                       [3., 4.],\n",
        "                       [5., 6.]])\n",
        "\n",
        "# matrix multiply as np.dot(m1, m2)\n",
        "product = tf.matmul(matrix1, matrix2)\n",
        "\n",
        "# 'with' will close the session automatically\n",
        "with tf.Session() as sess:\n",
        "  result = sess.run(product)\n",
        "  print(result)"
      ],
      "execution_count": 9,
      "outputs": [
        {
          "output_type": "stream",
          "text": [
            "[[22. 28.]\n",
            " [49. 64.]]\n"
          ],
          "name": "stdout"
        }
      ]
    },
    {
      "cell_type": "code",
      "metadata": {
        "id": "o_oiDMEDYDOE",
        "colab_type": "code",
        "colab": {
          "base_uri": "https://localhost:8080/",
          "height": 87
        },
        "outputId": "a5d71e04-c9dc-4cce-b7a8-c3bd7da5de0e"
      },
      "source": [
        "# InteractiveSession()让自身成为默认的Session，用户在不需要指明用哪个session\n",
        "# 运行的情况下，就可以运行起来（例如run()和eval()）\n",
        "\n",
        "import tensorflow as tf\n",
        "\n",
        "x = tf.Variable(7.0)\n",
        "a = tf.constant(5.0)\n",
        "\n",
        "init = tf.initialize_all_variables()\n",
        "\n",
        "sub = tf.subtract(a, x)\n",
        "\n",
        "se = tf.InteractiveSession()\n",
        "init.run()\n",
        "print(sub.eval())\n",
        "\n",
        "se.close()"
      ],
      "execution_count": 17,
      "outputs": [
        {
          "output_type": "stream",
          "text": [
            "-2.0\n"
          ],
          "name": "stdout"
        },
        {
          "output_type": "stream",
          "text": [
            "/usr/local/lib/python3.6/dist-packages/tensorflow/python/client/session.py:1735: UserWarning: An interactive session is already active. This can cause out-of-memory errors in some cases. You must explicitly call `InteractiveSession.close()` to release resources held by the other session(s).\n",
            "  warnings.warn('An interactive session is already active. This can '\n"
          ],
          "name": "stderr"
        }
      ]
    }
  ]
}