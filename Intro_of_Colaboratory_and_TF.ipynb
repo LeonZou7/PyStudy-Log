{
  "nbformat": 4,
  "nbformat_minor": 0,
  "metadata": {
    "colab": {
      "name": "欢迎使用 Colaboratory",
      "version": "0.3.2",
      "provenance": [],
      "collapsed_sections": [],
      "toc_visible": true,
      "include_colab_link": true
    },
    "kernelspec": {
      "display_name": "Python 3",
      "name": "python3"
    }
  },
  "cells": [
    {
      "cell_type": "markdown",
      "metadata": {
        "id": "view-in-github",
        "colab_type": "text"
      },
      "source": [
        "<a href=\"https://colab.research.google.com/github/LeonZou7/TF-Study-Log/blob/master/Intro_of_Colaboratory_and_TF.ipynb\" target=\"_parent\"><img src=\"https://colab.research.google.com/assets/colab-badge.svg\" alt=\"Open In Colab\"/></a>"
      ]
    },
    {
      "cell_type": "markdown",
      "metadata": {
        "colab_type": "text",
        "id": "5fCEDCU_qrC0"
      },
      "source": [
        "<p><img alt=\"Colaboratory logo\" height=\"45px\" src=\"https://colab.research.google.com/img/colab_favicon.ico\" align=\"left\" hspace=\"10px\" vspace=\"0px\"></p>\n",
        "\n",
        "<h1>欢迎使用 Colaboratory！</h1>\n",
        "\n",
        "\n",
        "Colaboratory 是一个免费的 Jupyter 笔记本环境，不需要进行任何设置就可以使用，并且完全在云端运行。\n",
        "\n",
        "借助 Colaboratory，您可以编写和执行代码、保存和共享分析结果，以及利用强大的计算资源，所有这些都可通过浏览器免费使用。"
      ]
    },
    {
      "cell_type": "code",
      "metadata": {
        "colab_type": "code",
        "id": "xitplqMNk_Hc",
        "outputId": "ed4f60d2-878d-4056-c438-352dac39a112",
        "colab": {
          "height": 420
        }
      },
      "source": [
        "#@title Colaboratory 简介 { display-mode: \"form\" }\n",
        "#@markdown 下面这个时长 3 分钟的视频概述了 Colaboratory 的主要功能：\n",
        "from IPython.display import YouTubeVideo\n",
        "YouTubeVideo('inN8seMm7UI', width=600, height=400)"
      ],
      "execution_count": 0,
      "outputs": [
        {
          "output_type": "execute_result",
          "data": {
            "text/html": [
              "\n",
              "        <iframe\n",
              "            width=\"600\"\n",
              "            height=\"400\"\n",
              "            src=\"https://www.youtube.com/embed/inN8seMm7UI\"\n",
              "            frameborder=\"0\"\n",
              "            allowfullscreen\n",
              "        ></iframe>\n",
              "        "
            ],
            "text/plain": [
              "<IPython.lib.display.YouTubeVideo at 0x7f956e9dda50>"
            ]
          },
          "metadata": {
            "tags": []
          },
          "execution_count": 0
        }
      ]
    },
    {
      "cell_type": "markdown",
      "metadata": {
        "colab_type": "text",
        "id": "GJBs_flRovLc"
      },
      "source": [
        "## 使用入门\n",
        "\n",
        "您正在阅读的文档是托管在 Colaboratory 中的 <a href=\"https://jupyter.org/\">Jupyter 笔记本</a>。它并非静态页面，而是一个可让您以 Python 和其他语言编写和执行代码的互动环境。\n",
        "\n",
        "例如，以下<strong>代码单元格</strong>包含一个简短的 Python 脚本，该脚本会计算值、将其存储在变量中并输出结果："
      ]
    },
    {
      "cell_type": "code",
      "metadata": {
        "colab_type": "code",
        "id": "gJr_9dXGpJ05",
        "outputId": "5626194c-e802-4293-942d-2908885c3c1f",
        "colab": {
          "height": 35
        }
      },
      "source": [
        "seconds_in_a_day = 24 * 60 * 60\n",
        "seconds_in_a_day"
      ],
      "execution_count": 0,
      "outputs": [
        {
          "output_type": "execute_result",
          "data": {
            "text/plain": [
              "86400"
            ]
          },
          "metadata": {
            "tags": []
          },
          "execution_count": 0
        }
      ]
    },
    {
      "cell_type": "markdown",
      "metadata": {
        "colab_type": "text",
        "id": "2fhs6GZ4qFMx"
      },
      "source": [
        "要执行上述单元格中的代码，请点击选择它，然后按代码左侧的“播放”按钮，或使用键盘快捷键“Command/Ctrl+Enter”。\n",
        "\n",
        "所有单元格都会修改同一全局状态，因此您通过执行某个单元格定义的变量可用在其他单元格中："
      ]
    },
    {
      "cell_type": "code",
      "metadata": {
        "colab_type": "code",
        "id": "-gE-Ez1qtyIA",
        "outputId": "8d2e4259-4682-4e19-b683-7b9087f28820",
        "colab": {
          "height": 35
        }
      },
      "source": [
        "seconds_in_a_week = 7 * seconds_in_a_day\n",
        "seconds_in_a_week"
      ],
      "execution_count": 0,
      "outputs": [
        {
          "output_type": "execute_result",
          "data": {
            "text/plain": [
              "604800"
            ]
          },
          "metadata": {
            "tags": []
          },
          "execution_count": 0
        }
      ]
    },
    {
      "cell_type": "markdown",
      "metadata": {
        "colab_type": "text",
        "id": "lSrWNr3MuFUS"
      },
      "source": [
        "要详细了解如何使用 Colaboratory 笔记本，请参阅 <a href=\"/notebooks/basic_features_overview.ipynb\">Colaboratory 概览</a>。\n"
      ]
    },
    {
      "cell_type": "markdown",
      "metadata": {
        "colab_type": "text",
        "id": "-Rh3-Vt9Nev9"
      },
      "source": [
        "## 更多资源\n",
        "\n",
        "要了解如何充分利用 Python、Jupyter、Colaboratory 和相关工具，请参阅以下资源：\n",
        "\n",
        "### 在 Colaboratory 中使用笔记本\n",
        "- [Colaboratory 概览](/notebooks/basic_features_overview.ipynb)\n",
        "- [Markdown 指南](/notebooks/markdown_guide.ipynb)\n",
        "- [导入库和安装依赖项](/notebooks/snippets/importing_libraries.ipynb)\n",
        "- [在 GitHub 中保存和加载笔记本](https://colab.research.google.com/github/googlecolab/colabtools/blob/master/notebooks/colab-github-demo.ipynb)\n",
        "- [互动表单](/notebooks/forms.ipynb)\n",
        "- [互动微件](/notebooks/widgets.ipynb)\n",
        "\n",
        "### 处理数据\n",
        "- [加载数据：云端硬盘、表格和 Google Cloud Storage](/notebooks/io.ipynb) \n",
        "- [图表：可视化数据](/notebooks/charts.ipynb)\n",
        "- [BigQuery 使用入门](/notebooks/bigquery.ipynb)\n",
        "\n",
        "### 机器学习速成课程\n",
        "以下是可以在 Google 的在线机器学习课程中找到的部分笔记本。请查看<a href=\"https://developers.google.com/machine-learning/crash-course/\">完整课程网站</a>了解详情。\n",
        "- [Pandas 简介](/notebooks/mlcc/intro_to_pandas.ipynb)\n",
        "- [Tensorflow 概念](/notebooks/mlcc/tensorflow_programming_concepts.ipynb)\n",
        "- [使用 TensorFlow 的起始步骤](/notebooks/mlcc/first_steps_with_tensor_flow.ipynb)\n",
        "- [神经网络简介](/notebooks/mlcc/intro_to_neural_nets.ipynb)\n",
        "- [稀疏数据和嵌入简介](/notebooks/mlcc/intro_to_sparse_data_and_embeddings.ipynb)\n",
        "\n",
        "### 使用加速硬件\n",
        "- [将 TensorFlow 与 GPU 配合使用](/notebooks/gpu.ipynb)\n",
        "- [将 TensorFlow 与 TPU 配合使用](/notebooks/tpu.ipynb)"
      ]
    },
    {
      "cell_type": "markdown",
      "metadata": {
        "colab_type": "text",
        "id": "P-H6Lw1vyNNd"
      },
      "source": [
        "## 机器学习示例：Seedbank\n",
        "\n",
        "要查看 Colaboratory 实现的互动机器学习分析的端到端示例，请查看 <a href=\"https://research.google.com/seedbank/\">Seedbank</a> 项目。\n",
        "\n",
        "一些精选示例：\n",
        "\n",
        "- <a href=\"https://research.google.com/seedbank/seed/neural_style_transfer_with_tfkeras\">神经风格迁移</a>：使用深度学习在图像之间迁移风格。\n",
        "- <a href=\"https://research.google.com/seedbank/seed/ez_nsynth\">EZ NSynth</a>：使用 WaveNet 自动编码器合成音频。\n",
        "- <a href=\"https://research.google.com/seedbank/seed/fashion_mnist_with_keras_and_tpus\">Fashion MNIST 与 Keras 和 TPU</a>：使用深度学习对时装图像进行分类。\n",
        "- <a href=\"https://research.google.com/seedbank/seed/deepdream\">DeepDream</a>：根据您自己的照片生成 DeepDream 图像。\n",
        "- <a href=\"https://research.google.com/seedbank/seed/convolutional_vae\">卷积 VAE</a>：创建手写数字生成模型。"
      ]
    },
    {
      "cell_type": "code",
      "metadata": {
        "id": "weyK1vsE-04g",
        "colab_type": "code",
        "colab": {
          "base_uri": "https://localhost:8080/",
          "height": 50
        },
        "outputId": "0af31d06-7978-405a-8000-fb3ecf9144a7"
      },
      "source": [
        "import tensorflow as tf\n",
        "\n",
        "matrix1 = tf.constant([[1., 2., 3.],\n",
        "                       [4., 5., 6.]])\n",
        "\n",
        "matrix2 = tf.constant([[1., 2.],\n",
        "                       [3., 4.],\n",
        "                       [5., 6.]])\n",
        "\n",
        "# matrix multiply as np.dot(m1, m2)\n",
        "product = tf.matmul(matrix1, matrix2)\n",
        "\n",
        "sess = tf.Session()\n",
        "result = sess.run(product)\n",
        "print(result)\n",
        "sess.close()"
      ],
      "execution_count": 21,
      "outputs": [
        {
          "output_type": "stream",
          "text": [
            "[[22. 28.]\n",
            " [49. 64.]]\n"
          ],
          "name": "stdout"
        }
      ]
    },
    {
      "cell_type": "code",
      "metadata": {
        "id": "A94JK7MMEk1g",
        "colab_type": "code",
        "colab": {
          "base_uri": "https://localhost:8080/",
          "height": 87
        },
        "outputId": "f0037c4a-4cf2-4e9d-8aab-3e46e3df16a2"
      },
      "source": [
        "import tensorflow as tf\n",
        "\n",
        "se = tf.InteractiveSession()\n",
        "\n",
        "x = tf.Variable(7.0)\n",
        "a = tf.constant(5.0)\n",
        "\n",
        "x.initializer.run()\n",
        "\n",
        "sub = tf.subtract(a, x)\n",
        "print(se.run(sub))"
      ],
      "execution_count": 14,
      "outputs": [
        {
          "output_type": "stream",
          "text": [
            "-2.0\n"
          ],
          "name": "stdout"
        },
        {
          "output_type": "stream",
          "text": [
            "/usr/local/lib/python3.6/dist-packages/tensorflow/python/client/session.py:1735: UserWarning: An interactive session is already active. This can cause out-of-memory errors in some cases. You must explicitly call `InteractiveSession.close()` to release resources held by the other session(s).\n",
            "  warnings.warn('An interactive session is already active. This can '\n"
          ],
          "name": "stderr"
        }
      ]
    },
    {
      "cell_type": "code",
      "metadata": {
        "id": "E5A4SBTYEtd6",
        "colab_type": "code",
        "colab": {
          "base_uri": "https://localhost:8080/",
          "height": 50
        },
        "outputId": "4e1c4fca-9ceb-4547-8557-1f5e69bdfbbb"
      },
      "source": [
        "import tensorflow as tf\n",
        "\n",
        "matrix1 = tf.constant([[1., 2., 3.],\n",
        "                       [4., 5., 6.]])\n",
        "\n",
        "matrix2 = tf.constant([[1., 2.],\n",
        "                       [3., 4.],\n",
        "                       [5., 6.]])\n",
        "\n",
        "# matrix multiply as np.dot(m1, m2)\n",
        "product = tf.matmul(matrix1, matrix2)\n",
        "\n",
        "# with语句会自动close\n",
        "with tf.Session() as sess:\n",
        "  result = sess.run(product)\n",
        "  print(result)"
      ],
      "execution_count": 3,
      "outputs": [
        {
          "output_type": "stream",
          "text": [
            "[[22. 28.]\n",
            " [49. 64.]]\n"
          ],
          "name": "stdout"
        }
      ]
    },
    {
      "cell_type": "code",
      "metadata": {
        "id": "nc9rFrB2365N",
        "colab_type": "code",
        "colab": {
          "base_uri": "https://localhost:8080/",
          "height": 386
        },
        "outputId": "14fb1dd0-4aed-419c-e72e-0e25ad99c2dc"
      },
      "source": [
        "import tensorflow as tf\n",
        "import numpy as np\n",
        "\n",
        "# create data from numpy randomly\n",
        "x_data = np.random.rand(100).astype(np.float32)\n",
        "y_data = x_data * 0.5 + 0.3\n",
        "\n",
        "### create tf structure start ###\n",
        "# random sequence as weight\n",
        "Weight = tf.Variable(tf.random_uniform([1], -1.0, 1.0)) # 一维数列，范围是-1~1\n",
        "#bias, 0 as begin\n",
        "bias = tf.Variable(tf.zeros([1]))\n",
        "\n",
        "# count the value of y\n",
        "y = Weight * x_data + bias\n",
        "\n",
        "# 计算误差\n",
        "loss = tf.reduce_mean(tf.square(y - y_data))\n",
        "\n",
        "# 建立优化器以在每一次减少误差 (关键)\n",
        "optimizer = tf.train.GradientDescentOptimizer(0.5) # 0.5:学习效率\n",
        "train = optimizer.minimize(loss)\n",
        "\n",
        "# 初始化全部变量\n",
        "init = tf.initialize_all_variables()\n",
        "### create tf structure end ###\n",
        "\n",
        "# create session and activate it\n",
        "sess = tf.Session()\n",
        "sess.run(init)\n",
        "\n",
        "print('setp   weight   bias')\n",
        "\n",
        "for step in range(201):\n",
        "  sess.run(train)\n",
        "  if not step % 10:\n",
        "    print(step, sess.run(Weight), sess.run(bias))\n",
        "    \n",
        "sess.close()"
      ],
      "execution_count": 23,
      "outputs": [
        {
          "output_type": "stream",
          "text": [
            "setp   weight   bias\n",
            "0 [-0.139462] [0.95623106]\n",
            "10 [0.10219699] [0.5237653]\n",
            "20 [0.29345632] [0.4161806]\n",
            "30 [0.39276046] [0.36032215]\n",
            "40 [0.44432014] [0.33131987]\n",
            "50 [0.47109047] [0.3162616]\n",
            "60 [0.48498988] [0.3084432]\n",
            "70 [0.49220657] [0.30438378]\n",
            "80 [0.4959536] [0.30227613]\n",
            "90 [0.49789906] [0.3011818]\n",
            "100 [0.49890915] [0.3006136]\n",
            "110 [0.49943364] [0.3003186]\n",
            "120 [0.49970594] [0.3001654]\n",
            "130 [0.4998473] [0.3000859]\n",
            "140 [0.4999207] [0.3000446]\n",
            "150 [0.4999588] [0.30002317]\n",
            "160 [0.49997863] [0.30001202]\n",
            "170 [0.4999889] [0.30000624]\n",
            "180 [0.49999425] [0.30000323]\n",
            "190 [0.499997] [0.3000017]\n",
            "200 [0.49999842] [0.30000088]\n"
          ],
          "name": "stdout"
        }
      ]
    },
    {
      "cell_type": "code",
      "metadata": {
        "id": "TSYishjCGosS",
        "colab_type": "code",
        "colab": {
          "base_uri": "https://localhost:8080/",
          "height": 67
        },
        "outputId": "a6448f88-daca-409e-b429-4a17b6042c1c"
      },
      "source": [
        "import tensorflow as tf\n",
        "\n",
        "state = tf.Variable(0, name = 'counter')\n",
        "one = tf.constant(2)\n",
        "\n",
        "new_value = tf.add(state, one)\n",
        "update = tf.assign(state, new_value)\n",
        "\n",
        "init = tf.initialize_all_variables()\n",
        "\n",
        "with tf.Session() as sess:\n",
        "  sess.run(init)\n",
        "  for step in range(3):\n",
        "    sess.run(update)\n",
        "    print(sess.run(state))"
      ],
      "execution_count": 8,
      "outputs": [
        {
          "output_type": "stream",
          "text": [
            "2\n",
            "4\n",
            "6\n"
          ],
          "name": "stdout"
        }
      ]
    },
    {
      "cell_type": "code",
      "metadata": {
        "id": "nx1D2XPxM4A2",
        "colab_type": "code",
        "colab": {
          "base_uri": "https://localhost:8080/",
          "height": 34
        },
        "outputId": "f81c0483-3acc-4f90-fbd6-9f9e0cee0b89"
      },
      "source": [
        "import tensorflow as tf\n",
        "\n",
        "input1 = tf.placeholder(tf.float32)\n",
        "input2 = tf.placeholder(tf.float32)\n",
        "\n",
        "output = tf.multiply(input1, input2)\n",
        "\n",
        "with tf.Session() as sess:\n",
        "  print(sess.run(output, feed_dict={input1: [7.0], input2: [2.0]}))"
      ],
      "execution_count": 11,
      "outputs": [
        {
          "output_type": "stream",
          "text": [
            "[14.]\n"
          ],
          "name": "stdout"
        }
      ]
    }
  ]
}