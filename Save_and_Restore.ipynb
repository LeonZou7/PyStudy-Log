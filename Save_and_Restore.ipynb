{
  "nbformat": 4,
  "nbformat_minor": 0,
  "metadata": {
    "colab": {
      "name": "Untitled0.ipynb",
      "provenance": [],
      "include_colab_link": true
    },
    "kernelspec": {
      "name": "python3",
      "display_name": "Python 3"
    },
    "accelerator": "GPU"
  },
  "cells": [
    {
      "cell_type": "markdown",
      "metadata": {
        "id": "view-in-github",
        "colab_type": "text"
      },
      "source": [
        "<a href=\"https://colab.research.google.com/github/LeonZou7/TF-Study-Log/blob/master/Save_and_Restore.ipynb\" target=\"_parent\"><img src=\"https://colab.research.google.com/assets/colab-badge.svg\" alt=\"Open In Colab\"/></a>"
      ]
    },
    {
      "cell_type": "code",
      "metadata": {
        "id": "cxNywFOpMqPy",
        "colab_type": "code",
        "colab": {
          "base_uri": "https://localhost:8080/",
          "height": 403
        },
        "outputId": "51cf7374-789d-4ab0-c74a-139c355d1aaa"
      },
      "source": [
        "# Example 7 save & restore\n",
        "# save\n",
        "# 1. get a saver\n",
        "# 2. save the model\n",
        "'''\n",
        "model file structure:\n",
        "   checkpoint\n",
        "   xxx.data(or xxx.data-00000-of-00001)\n",
        "   xxx.index\n",
        "   xxx.meta\n",
        "'''\n",
        "\n",
        "import tensorflow as tf\n",
        "import numpy as np\n",
        "\n",
        "# create data from numpy randomly\n",
        "x_data = np.random.rand(100).astype(np.float32)\n",
        "# 目标拟合方程\n",
        "y_data = x_data * 0.5 + 0.3\n",
        "tf.reset_default_graph()\n",
        "### create tf structure start ###\n",
        "# random sequence as weight\n",
        "Weight = tf.Variable(tf.random_uniform([1], -1.0, 1.0), name='w') # 一维数列，范围是-1~1\n",
        "#bias, 0 as begin\n",
        "bias = tf.Variable(tf.zeros([1]), name='b')\n",
        "\n",
        "# count the value of y\n",
        "y = Weight * x_data + bias\n",
        "\n",
        "# 计算误差\n",
        "loss = tf.reduce_mean(tf.square(y - y_data))\n",
        "\n",
        "# 建立优化器以在每一次减少误差 (关键)\n",
        "optimizer = tf.train.GradientDescentOptimizer(0.5) # 0.5:学习效率\n",
        "train = optimizer.minimize(loss)\n",
        "\n",
        "# 初始化全部变量\n",
        "init = tf.global_variables_initializer()\n",
        "### create tf structure end ###\n",
        "\n",
        "# create session and activate it\n",
        "sess = tf.Session()\n",
        "sess.run(init)\n",
        "\n",
        "print('setp   weight   bias')\n",
        "\n",
        "for step in range(201):\n",
        "  sess.run(train)\n",
        "  if not step % 10:\n",
        "    print(step, sess.run(Weight), sess.run(bias))\n",
        "\n",
        "# 创建saver\n",
        "saver = tf.train.Saver()\n",
        "# 使用saver.save()保存模型\n",
        "save_path = saver.save(sess, 'model/test1')\n",
        "print(\"saved.\")\n",
        "\n",
        "sess.close()"
      ],
      "execution_count": 45,
      "outputs": [
        {
          "output_type": "stream",
          "text": [
            "setp   weight   bias\n",
            "0 [0.5691104] [0.37742257]\n",
            "10 [0.50896555] [0.29486236]\n",
            "20 [0.5043165] [0.29752606]\n",
            "30 [0.5020783] [0.29880887]\n",
            "40 [0.50100064] [0.2994265]\n",
            "50 [0.50048184] [0.29972386]\n",
            "60 [0.500232] [0.29986706]\n",
            "70 [0.5001117] [0.299936]\n",
            "80 [0.50005376] [0.29996923]\n",
            "90 [0.50002587] [0.29998517]\n",
            "100 [0.50001246] [0.29999286]\n",
            "110 [0.50000596] [0.29999658]\n",
            "120 [0.50000286] [0.2999984]\n",
            "130 [0.5000013] [0.29999927]\n",
            "140 [0.5000006] [0.29999965]\n",
            "150 [0.5000003] [0.29999986]\n",
            "160 [0.50000024] [0.2999999]\n",
            "170 [0.50000024] [0.2999999]\n",
            "180 [0.50000024] [0.2999999]\n",
            "190 [0.50000024] [0.2999999]\n",
            "200 [0.50000024] [0.2999999]\n",
            "saved.\n"
          ],
          "name": "stdout"
        }
      ]
    },
    {
      "cell_type": "code",
      "metadata": {
        "id": "nyambEqXNjW9",
        "colab_type": "code",
        "colab": {
          "base_uri": "https://localhost:8080/",
          "height": 84
        },
        "outputId": "f530e95f-461a-4594-ffc2-0cbb44e41188"
      },
      "source": [
        "# Example 7 save & restore\n",
        "# restore\n",
        "# 1. initialize\n",
        "# 2. saver = tf.train.import_meta_graph()\n",
        "# 3. save.restore\n",
        "\n",
        "import tensorflow as tf\n",
        "import numpy as np\n",
        "\n",
        "# reset graph\n",
        "tf.reset_default_graph()\n",
        "\n",
        "init = tf.global_variables_initializer()\n",
        "\n",
        "with tf.Session() as sess:\n",
        "  sess.run(init)\n",
        "  # saver = tf.train.import_meta_graph(meta_file_path)\n",
        "  saver = tf.train.import_meta_graph('model/test1.meta')\n",
        "  # latest_checkpoint 查找最近一次保存的模型\n",
        "  saver.restore(sess, tf.train.latest_checkpoint('model/'))\n",
        "  # 最好给参数取名，\":0\"是必须！！！\n",
        "  print('Weitht: ', sess.run(\"w:0\"))\n",
        "  print('bias: ', sess.run(\"b:0\"))\n",
        "\n",
        "  #得到模型的参数\n",
        "  w1 = tf.get_default_graph().get_tensor_by_name('w:0')\n",
        "  b1 = tf.get_default_graph().get_tensor_by_name('b:0')\n",
        "  print(sess.run(w1), sess.run(b1))\n"
      ],
      "execution_count": 56,
      "outputs": [
        {
          "output_type": "stream",
          "text": [
            "INFO:tensorflow:Restoring parameters from model/test1\n",
            "Weitht:  [0.50000024]\n",
            "bias:  [0.2999999]\n",
            "[0.50000024] [0.2999999]\n"
          ],
          "name": "stdout"
        }
      ]
    }
  ]
}