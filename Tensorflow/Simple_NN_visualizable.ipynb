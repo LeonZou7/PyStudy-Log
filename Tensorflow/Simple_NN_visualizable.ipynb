{
  "nbformat": 4,
  "nbformat_minor": 0,
  "metadata": {
    "colab": {
      "name": "Untitled0.ipynb",
      "version": "0.3.2",
      "provenance": [],
      "include_colab_link": true
    },
    "kernelspec": {
      "name": "python3",
      "display_name": "Python 3"
    }
  },
  "cells": [
    {
      "cell_type": "markdown",
      "metadata": {
        "id": "view-in-github",
        "colab_type": "text"
      },
      "source": [
        "<a href=\"https://colab.research.google.com/github/LeonZou7/TF-Study-Log/blob/master/Simple_NN_visualizable.ipynb\" target=\"_parent\"><img src=\"https://colab.research.google.com/assets/colab-badge.svg\" alt=\"Open In Colab\"/></a>"
      ]
    },
    {
      "cell_type": "code",
      "metadata": {
        "id": "jTuaZsKNTmqG",
        "colab_type": "code",
        "outputId": "7c4230a6-da42-4664-f7bd-736841d4b7a4",
        "colab": {
          "base_uri": "https://localhost:8080/",
          "height": 302
        }
      },
      "source": [
        "\n",
        "# TF practice: let the input be 1, and let the output get close to 0 \n",
        "# through 100 times training\n",
        "# Use plt to visualize the process\n",
        "\n",
        "import tensorflow as tf\n",
        "import matplotlib.pyplot as plt\n",
        "\n",
        "input_value = tf.constant(0.5, name='input_value')\n",
        "weight = tf.Variable(1.0, name='weight')\n",
        "output_expected = tf.constant(0.0, name='output_expected')\n",
        "\n",
        "output_real = input_value * weight\n",
        "loss = (output_expected - output_real) ** 2\n",
        "\n",
        "# set the learning rate to 0.025\n",
        "train = tf.train.GradientDescentOptimizer(0.025).minimize(loss)\n",
        "\n",
        "losses = []\n",
        "outputs = []\n",
        "\n",
        "with tf.Session() as sess:\n",
        "  sess.run(tf.global_variables_initializer())\n",
        "  for step in range(101):\n",
        "    losses.append(sess.run(loss))\n",
        "    outputs.append(sess.run(output_real))\n",
        "    sess.run(train)\n",
        "  print(sess.run(output_real))\n",
        "  print(sess.run(loss))\n",
        "  \n",
        "# visualize the process\n",
        "plt.plot(outputs, label='output')\n",
        "plt.plot(losses, label='loss')\n",
        "leg = plt.legend(loc='best', ncol=2, mode='expand',\n",
        "                 shadow=True, fancybox = True)\n",
        "plt.show()\n",
        "\n",
        "# SUMMARY: The essence of ML is adjusting the parameters \n",
        "# to get the result we want through training."
      ],
      "execution_count": 13,
      "outputs": [
        {
          "output_type": "stream",
          "text": [
            "0.14035164\n",
            "0.019698583\n"
          ],
          "name": "stdout"
        },
        {
          "output_type": "display_data",
          "data": {
            "image/png": "[encoded data removed]",
            "text/plain": [
              "<Figure size 432x288 with 1 Axes>"
            ]
          },
          "metadata": {
            "tags": []
          }
        }
      ]
    }
  ]
}