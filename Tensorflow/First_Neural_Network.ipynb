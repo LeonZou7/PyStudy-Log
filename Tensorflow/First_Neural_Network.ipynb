{
  "nbformat": 4,
  "nbformat_minor": 0,
  "metadata": {
    "colab": {
      "name": "Untitled0.ipynb",
      "version": "0.3.2",
      "provenance": [],
      "include_colab_link": true
    },
    "kernelspec": {
      "name": "python3",
      "display_name": "Python 3"
    }
  },
  "cells": [
    {
      "cell_type": "markdown",
      "metadata": {
        "id": "view-in-github",
        "colab_type": "text"
      },
      "source": [
        "<a href=\"https://colab.research.google.com/github/LeonZou7/TF-Study-Log/blob/master/First_Neural_Network.ipynb\" target=\"_parent\"><img src=\"https://colab.research.google.com/assets/colab-badge.svg\" alt=\"Open In Colab\"/></a>"
      ]
    },
    {
      "cell_type": "code",
      "metadata": {
        "id": "jTuaZsKNTmqG",
        "colab_type": "code",
        "colab": {
          "base_uri": "https://localhost:8080/",
          "height": 386
        },
        "outputId": "228b3c26-47aa-4f07-a73a-2efba2f87d01"
      },
      "source": [
        "# 第一个TF神经网络 -------- 拟合一元一次方程\n",
        "\n",
        "import tensorflow as tf\n",
        "import numpy as np\n",
        "\n",
        "# create data from numpy randomly\n",
        "x_data = np.random.rand(100).astype(np.float32)\n",
        "# 目标拟合方程\n",
        "y_data = x_data * 0.5 + 0.3\n",
        "\n",
        "### create tf structure start ###\n",
        "# random sequence as weight\n",
        "Weight = tf.Variable(tf.random_uniform([1], -1.0, 1.0)) # 一维数列，范围是-1~1\n",
        "#bias, 0 as begin\n",
        "bias = tf.Variable(tf.zeros([1]))\n",
        "\n",
        "# count the value of y\n",
        "y = Weight * x_data + bias\n",
        "\n",
        "# 计算误差\n",
        "loss = tf.reduce_mean(tf.square(y - y_data))\n",
        "\n",
        "# 建立优化器以在每一次减少误差 (关键)\n",
        "optimizer = tf.train.GradientDescentOptimizer(0.5) # 0.5:学习效率\n",
        "train = optimizer.minimize(loss)\n",
        "\n",
        "# 初始化全部变量\n",
        "init = tf.initialize_all_variables()\n",
        "### create tf structure end ###\n",
        "\n",
        "# create session and activate it\n",
        "sess = tf.Session()\n",
        "sess.run(init)\n",
        "\n",
        "print('setp   weight   bias')\n",
        "\n",
        "for step in range(201):\n",
        "  sess.run(train)\n",
        "  if not step % 10:\n",
        "    print(step, sess.run(Weight), sess.run(bias))\n",
        "    \n",
        "sess.close()"
      ],
      "execution_count": 3,
      "outputs": [
        {
          "output_type": "stream",
          "text": [
            "setp   weight   bias\n",
            "0 [-0.08418292] [0.8186586]\n",
            "10 [0.16686292] [0.47300014]\n",
            "20 [0.33490896] [0.38573268]\n",
            "30 [0.41818672] [0.34248608]\n",
            "40 [0.4594562] [0.32105464]\n",
            "50 [0.4799079] [0.31043395]\n",
            "60 [0.49004307] [0.30517069]\n",
            "70 [0.49506566] [0.30256242]\n",
            "80 [0.49755472] [0.30126986]\n",
            "90 [0.4987882] [0.3006293]\n",
            "100 [0.49939948] [0.30031186]\n",
            "110 [0.4997024] [0.30015457]\n",
            "120 [0.4998525] [0.3000766]\n",
            "130 [0.49992687] [0.30003798]\n",
            "140 [0.49996376] [0.30001885]\n",
            "150 [0.49998206] [0.30000934]\n",
            "160 [0.49999112] [0.30000463]\n",
            "170 [0.49999556] [0.3000023]\n",
            "180 [0.49999776] [0.30000117]\n",
            "190 [0.49999887] [0.3000006]\n",
            "200 [0.49999943] [0.3000003]\n"
          ],
          "name": "stdout"
        }
      ]
    }
  ]
}