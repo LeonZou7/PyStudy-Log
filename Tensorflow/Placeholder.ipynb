{
  "nbformat": 4,
  "nbformat_minor": 0,
  "metadata": {
    "colab": {
      "name": "Untitled0.ipynb",
      "version": "0.3.2",
      "provenance": [],
      "include_colab_link": true
    },
    "kernelspec": {
      "name": "python3",
      "display_name": "Python 3"
    }
  },
  "cells": [
    {
      "cell_type": "markdown",
      "metadata": {
        "id": "view-in-github",
        "colab_type": "text"
      },
      "source": [
        "<a href=\"https://colab.research.google.com/github/LeonZou7/TF-Study-Log/blob/master/Placeholder.ipynb\" target=\"_parent\"><img src=\"https://colab.research.google.com/assets/colab-badge.svg\" alt=\"Open In Colab\"/></a>"
      ]
    },
    {
      "cell_type": "code",
      "metadata": {
        "id": "jTuaZsKNTmqG",
        "colab_type": "code",
        "colab": {
          "base_uri": "https://localhost:8080/",
          "height": 34
        },
        "outputId": "026ee38d-3ddc-487b-f93b-a966b4859d70"
      },
      "source": [
        "# Example of placeholder\n",
        "\n",
        "# placeholder与variable的不同点在于：\n",
        "# variable须在定义时给出指定的值，\n",
        "# placeholder可以在需要使用时（例如在Session中运行）通过feed_dict的方法给出数值。\n",
        "# 需注意的是feed_dict传入的是一个字典。\n",
        "\n",
        "import tensorflow as tf\n",
        "\n",
        "input1 = tf.placeholder(tf.float32)\n",
        "input2 = tf.placeholder(tf.float32)\n",
        "\n",
        "output = tf.multiply(input1, input2)\n",
        "\n",
        "with tf.Session() as sess:\n",
        "  print(sess.run(output, feed_dict={input1: [7.0], input2: [2.0]}))"
      ],
      "execution_count": 7,
      "outputs": [
        {
          "output_type": "stream",
          "text": [
            "[14.]\n"
          ],
          "name": "stdout"
        }
      ]
    }
  ]
}