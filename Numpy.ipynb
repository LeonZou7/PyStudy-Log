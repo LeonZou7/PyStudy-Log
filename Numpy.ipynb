{
  "nbformat": 4,
  "nbformat_minor": 0,
  "metadata": {
    "colab": {
      "name": "Numpy.ipynb",
      "provenance": [],
      "collapsed_sections": [],
      "include_colab_link": true
    },
    "kernelspec": {
      "name": "python3",
      "display_name": "Python 3"
    }
  },
  "cells": [
    {
      "cell_type": "markdown",
      "metadata": {
        "id": "view-in-github",
        "colab_type": "text"
      },
      "source": [
        "<a href=\"https://colab.research.google.com/github/LeonZou7/PyStudy-Log/blob/master/Numpy.ipynb\" target=\"_parent\"><img src=\"https://colab.research.google.com/assets/colab-badge.svg\" alt=\"Open In Colab\"/></a>"
      ]
    },
    {
      "cell_type": "code",
      "metadata": {
        "id": "yrz0DYEyfiOO",
        "colab_type": "code",
        "outputId": "d65fceab-3c33-40e9-e36e-867833645c43",
        "colab": {
          "base_uri": "https://localhost:8080/",
          "height": 50
        }
      },
      "source": [
        "import numpy as np\n",
        "import torch\n",
        "\n",
        "print(np.__version__)\n",
        "print(torch.__version__)"
      ],
      "execution_count": 2,
      "outputs": [
        {
          "output_type": "stream",
          "text": [
            "1.18.3\n",
            "1.5.0+cu101\n"
          ],
          "name": "stdout"
        }
      ]
    },
    {
      "cell_type": "code",
      "metadata": {
        "id": "M4Pjka_n7Kni",
        "colab_type": "code",
        "colab": {
          "base_uri": "https://localhost:8080/",
          "height": 168
        },
        "outputId": "4981a7b4-11af-4678-945e-4fa2b4c99335"
      },
      "source": [
        "a = np.ones((2, 2))\n",
        "b = np.zeros((3, 3))\n",
        "c = np.eye(4)   # 单位数组\n",
        "print(\"a: \",a)\n",
        "print(\"b: \", b)\n",
        "print(\"c: \", c)"
      ],
      "execution_count": 14,
      "outputs": [
        {
          "output_type": "stream",
          "text": [
            "a:  [[1. 1.]\n",
            " [1. 1.]]\n",
            "b:  [[0. 0. 0.]\n",
            " [0. 0. 0.]\n",
            " [0. 0. 0.]]\n",
            "c:  [[1. 0. 0. 0.]\n",
            " [0. 1. 0. 0.]\n",
            " [0. 0. 1. 0.]\n",
            " [0. 0. 0. 1.]]\n"
          ],
          "name": "stdout"
        }
      ]
    },
    {
      "cell_type": "code",
      "metadata": {
        "id": "Q0EZoJkp6RBy",
        "colab_type": "code",
        "colab": {
          "base_uri": "https://localhost:8080/",
          "height": 84
        },
        "outputId": "ba5a40be-a65c-458c-bd96-5cabc403eb5d"
      },
      "source": [
        "# 一维等差数组\n",
        "a = np.arange(1, 9)\n",
        "\n",
        "# 二维等差数组\n",
        "b = np.arange(6).reshape(2, 3)\n",
        "\n",
        "# 等距一维数组\n",
        "c = np.linspace(1, 10, num=4)\n",
        "\n",
        "print(\"a: \", a)\n",
        "print(\"b: \", b)\n",
        "print(\"c: \", c)"
      ],
      "execution_count": 18,
      "outputs": [
        {
          "output_type": "stream",
          "text": [
            "a:  [1 2 3 4 5 6 7 8]\n",
            "b:  [[0 1 2]\n",
            " [3 4 5]]\n",
            "c:  [ 1.  4.  7. 10.]\n"
          ],
          "name": "stdout"
        }
      ]
    },
    {
      "cell_type": "code",
      "metadata": {
        "id": "nmAJoJ736uST",
        "colab_type": "code",
        "colab": {
          "base_uri": "https://localhost:8080/",
          "height": 84
        },
        "outputId": "1123e9c2-9cc7-49f4-e920-d0a3e2184d2f"
      },
      "source": [
        "# 二维随机数组\n",
        "a = np.random.rand(2, 3)\n",
        "\n",
        "# 小于5的二维随机整数数组\n",
        "b = np.random.randint(5, size=(2, 3))\n",
        "\n",
        "print(\"a: \", a)\n",
        "print(\"b: \", b)"
      ],
      "execution_count": 19,
      "outputs": [
        {
          "output_type": "stream",
          "text": [
            "a:  [[0.0814259  0.67256893 0.05919832]\n",
            " [0.37484968 0.92034775 0.33175629]]\n",
            "b:  [[4 1 0]\n",
            " [1 0 2]]\n"
          ],
          "name": "stdout"
        }
      ]
    },
    {
      "cell_type": "code",
      "metadata": {
        "id": "OqAYx5ng7A-Z",
        "colab_type": "code",
        "colab": {
          "base_uri": "https://localhost:8080/",
          "height": 101
        },
        "outputId": "c89bcf3c-57a4-4f63-9f30-09286cc33f28"
      },
      "source": [
        "# 数组运算\n",
        "a = np.array([1, 2, 3, 4])\n",
        "b = np.random.randint(10, size=(1, 4))\n",
        "\n",
        "print(a, b)\n",
        "print(a + b)\n",
        "print(a - b)\n",
        "print(a * b)\n",
        "print(a / b)"
      ],
      "execution_count": 26,
      "outputs": [
        {
          "output_type": "stream",
          "text": [
            "[1 2 3 4] [[8 5 7 6]]\n",
            "[[ 9  7 10 10]]\n",
            "[[-7 -3 -4 -2]]\n",
            "[[ 8 10 21 24]]\n",
            "[[0.125      0.4        0.42857143 0.66666667]]\n"
          ],
          "name": "stdout"
        }
      ]
    },
    {
      "cell_type": "code",
      "metadata": {
        "id": "UdX5Bhz_96YZ",
        "colab_type": "code",
        "colab": {
          "base_uri": "https://localhost:8080/",
          "height": 252
        },
        "outputId": "f2da5b74-fe4c-4df7-a282-c8f9e54f87c7"
      },
      "source": [
        "# 矩阵运算\n",
        "a = np.array([[1, 2],\n",
        "        [3, 4]])\n",
        "b = np.array([[5, 6],\n",
        "        [7, 8]])\n",
        "\n",
        "print(a + b)\n",
        "print(a - b)\n",
        "print(a * b)    # 元素间乘法\n",
        "print(np.dot(a, b)) # 矩阵乘法\n",
        "print(2 * a)    # 数乘\n",
        "print(a.T)  # 转置矩阵\n",
        "print(np.linalg.inv(a)) # 逆矩阵"
      ],
      "execution_count": 30,
      "outputs": [
        {
          "output_type": "stream",
          "text": [
            "[[ 6  8]\n",
            " [10 12]]\n",
            "[[-4 -4]\n",
            " [-4 -4]]\n",
            "[[ 5 12]\n",
            " [21 32]]\n",
            "[[19 22]\n",
            " [43 50]]\n",
            "[[2 4]\n",
            " [6 8]]\n",
            "[[1 3]\n",
            " [2 4]]\n",
            "[[-2.   1. ]\n",
            " [ 1.5 -0.5]]\n"
          ],
          "name": "stdout"
        }
      ]
    },
    {
      "cell_type": "code",
      "metadata": {
        "id": "UkP8u17Q-5df",
        "colab_type": "code",
        "colab": {
          "base_uri": "https://localhost:8080/",
          "height": 34
        },
        "outputId": "0bb073d8-c2fa-44c5-c1d6-6076652e4f0f"
      },
      "source": [
        "a = np.random.randint(6, size=(1,3))\n",
        "np.sin(a)   # 三角函数\n",
        "np.exp(a)   # e为底的指数函数\n",
        "np.sqrt(a)  # 平方根\n",
        "np.abs(a)   # 绝对值\n",
        "np.power(a, 2)  # 指数运算"
      ],
      "execution_count": 3,
      "outputs": [
        {
          "output_type": "execute_result",
          "data": {
            "text/plain": [
              "array([[4, 4, 1]])"
            ]
          },
          "metadata": {
            "tags": []
          },
          "execution_count": 3
        }
      ]
    },
    {
      "cell_type": "code",
      "metadata": {
        "id": "Y4T7bpaEAX74",
        "colab_type": "code",
        "colab": {
          "base_uri": "https://localhost:8080/",
          "height": 118
        },
        "outputId": "7cde961d-81d9-4f92-b2db-db0863e5ee29"
      },
      "source": [
        "# 二维数组切片和索引\n",
        "a = np.array([[1, 2, 3],\n",
        "        [4, 5, 6],\n",
        "        [7, 8, 9]])\n",
        "\n",
        "print(a[1:3])\n",
        "print(a[:-1])\n",
        "print(a[:, 1])  # 取第2列\n",
        "print(a[1, :])  # 取第2行"
      ],
      "execution_count": 12,
      "outputs": [
        {
          "output_type": "stream",
          "text": [
            "[[4 5 6]\n",
            " [7 8 9]]\n",
            "[[1 2 3]\n",
            " [4 5 6]]\n",
            "[2 5 8]\n",
            "[4 5 6]\n"
          ],
          "name": "stdout"
        }
      ]
    },
    {
      "cell_type": "code",
      "metadata": {
        "id": "98HHai2pBgI-",
        "colab_type": "code",
        "colab": {
          "base_uri": "https://localhost:8080/",
          "height": 571
        },
        "outputId": "29e9aff7-e75e-4bf3-9a89-29e3a2d1fcf1"
      },
      "source": [
        "# 数组形状操作\n",
        "a = np.random.random((2, 3))\n",
        "\n",
        "print(a.shape)\n",
        "print(a.reshape(3, 2))  # 不改变原始数组\n",
        "print(a.resize(3, 2))   # 改变原始数组\n",
        "print(a.ravel())  # 展平数组\n",
        "print('-------')\n",
        "\n",
        "b = np.random.randint(10, size=(3, 3))\n",
        "c = np.random.randint(10, size=(3, 3))\n",
        "\n",
        "print(b)\n",
        "print(c)\n",
        "print('-------')\n",
        "print(np.vstack((b, c)))  # 垂直拼合数组\n",
        "print(np.hstack((b, c)))  # 水平拼合数组\n",
        "print('-------')\n",
        "print(np.vsplit(b, 3))  # 沿纵轴分割数组\n",
        "print(np.hsplit(c, 3))  # 沿横轴分割数组"
      ],
      "execution_count": 32,
      "outputs": [
        {
          "output_type": "stream",
          "text": [
            "(2, 3)\n",
            "[[4.20810637e-02 4.69219044e-01]\n",
            " [1.07183696e-01 4.02592000e-04]\n",
            " [6.83220969e-01 4.85040835e-01]]\n",
            "None\n",
            "[4.20810637e-02 4.69219044e-01 1.07183696e-01 4.02592000e-04\n",
            " 6.83220969e-01 4.85040835e-01]\n",
            "-------\n",
            "[[6 4 8]\n",
            " [5 7 0]\n",
            " [8 9 2]]\n",
            "[[0 8 1]\n",
            " [9 7 0]\n",
            " [3 9 2]]\n",
            "-------\n",
            "[[6 4 8]\n",
            " [5 7 0]\n",
            " [8 9 2]\n",
            " [0 8 1]\n",
            " [9 7 0]\n",
            " [3 9 2]]\n",
            "[[6 4 8 0 8 1]\n",
            " [5 7 0 9 7 0]\n",
            " [8 9 2 3 9 2]]\n",
            "-------\n",
            "[array([[6, 4, 8]]), array([[5, 7, 0]]), array([[8, 9, 2]])]\n",
            "[array([[0],\n",
            "       [9],\n",
            "       [3]]), array([[8],\n",
            "       [7],\n",
            "       [9]]), array([[1],\n",
            "       [0],\n",
            "       [2]])]\n"
          ],
          "name": "stdout"
        }
      ]
    },
    {
      "cell_type": "code",
      "metadata": {
        "id": "bk6wGp6QDnUg",
        "colab_type": "code",
        "colab": {
          "base_uri": "https://localhost:8080/",
          "height": 168
        },
        "outputId": "7b7e92bd-d202-43a8-8618-23a7c66a7090"
      },
      "source": [
        "# 数组排序\n",
        "a = np.random.randint(10, size=(3, 3))\n",
        "print(a)\n",
        "print('-------')\n",
        "print(np.max(a, axis=0))    # 每列最大值\n",
        "print(np.min(a, axis=1))    # 每行最小值\n",
        "print('-------')\n",
        "print(np.argmax(a, axis=0)) # 每列最大值索引\n",
        "print(np.argmin(b, axis=1)) # 每行最小值索引"
      ],
      "execution_count": 44,
      "outputs": [
        {
          "output_type": "stream",
          "text": [
            "[[8 3 7]\n",
            " [8 6 4]\n",
            " [2 4 7]]\n",
            "-------\n",
            "[8 6 7]\n",
            "[3 4 2]\n",
            "-------\n",
            "[0 1 0]\n",
            "[1 2 2]\n"
          ],
          "name": "stdout"
        }
      ]
    },
    {
      "cell_type": "code",
      "metadata": {
        "id": "wmTIQ7T7EldH",
        "colab_type": "code",
        "colab": {
          "base_uri": "https://localhost:8080/",
          "height": 185
        },
        "outputId": "c1198840-8219-4b1f-b3cd-eb4f4abda5e0"
      },
      "source": [
        "# 数组统计\n",
        "a = np.random.randint(10, size=(3, 3))\n",
        "\n",
        "print(a)\n",
        "print('-------')\n",
        "print(np.median(a, axis=0)) # 每列中位数\n",
        "print(np.mean(a, axis=1)) # 每行算术平均值\n",
        "print('-------')\n",
        "print(np.average(a, axis=0))    # 每列加权平均值\n",
        "print(np.var(a, axis=1))    # 每行方差\n",
        "print(np.std(a, axis=0))    # 每列标准差"
      ],
      "execution_count": 45,
      "outputs": [
        {
          "output_type": "stream",
          "text": [
            "[[9 8 8]\n",
            " [0 8 8]\n",
            " [2 8 0]]\n",
            "-------\n",
            "[2. 8. 8.]\n",
            "[8.33333333 5.33333333 3.33333333]\n",
            "-------\n",
            "[3.66666667 8.         5.33333333]\n",
            "[ 0.22222222 14.22222222 11.55555556]\n",
            "[3.8586123  0.         3.77123617]\n"
          ],
          "name": "stdout"
        }
      ]
    },
    {
      "cell_type": "code",
      "metadata": {
        "id": "ATBxvHw5FhDv",
        "colab_type": "code",
        "colab": {
          "base_uri": "https://localhost:8080/",
          "height": 34
        },
        "outputId": "b997e2fc-059b-43a5-c8b2-ad9e5968d62f"
      },
      "source": [
        "# 创建一个 0-10 的一维数组，并将 (1, 9] 之间的数全部反转成负数\n",
        "Z = np.arange(11)\n",
        "Z[(1 < Z) & (Z <= 9)] *= -1\n",
        "Z"
      ],
      "execution_count": 46,
      "outputs": [
        {
          "output_type": "execute_result",
          "data": {
            "text/plain": [
              "array([ 0,  1, -2, -3, -4, -5, -6, -7, -8, -9, 10])"
            ]
          },
          "metadata": {
            "tags": []
          },
          "execution_count": 46
        }
      ]
    },
    {
      "cell_type": "code",
      "metadata": {
        "id": "pKcYpC8rFpNm",
        "colab_type": "code",
        "colab": {
          "base_uri": "https://localhost:8080/",
          "height": 67
        },
        "outputId": "2f18f388-a974-4e58-dc20-21e05d1e7232"
      },
      "source": [
        "# 找出两个一维数组中相同的元素\n",
        "Z1 = np.random.randint(0, 10, 10)\n",
        "Z2 = np.random.randint(0, 10, 10)\n",
        "print(\"Z1:\", Z1)\n",
        "print(\"Z2:\", Z2)\n",
        "np.intersect1d(Z1, Z2)"
      ],
      "execution_count": 47,
      "outputs": [
        {
          "output_type": "stream",
          "text": [
            "Z1: [0 9 5 2 2 3 8 3 1 0]\n",
            "Z2: [4 6 7 3 8 3 0 6 7 1]\n"
          ],
          "name": "stdout"
        },
        {
          "output_type": "execute_result",
          "data": {
            "text/plain": [
              "array([0, 1, 3, 8])"
            ]
          },
          "metadata": {
            "tags": []
          },
          "execution_count": 47
        }
      ]
    },
    {
      "cell_type": "code",
      "metadata": {
        "id": "hcTJWFhfFttU",
        "colab_type": "code",
        "colab": {
          "base_uri": "https://localhost:8080/",
          "height": 134
        },
        "outputId": "72292326-f4b2-4ced-ac0b-dcbb29211a81"
      },
      "source": [
        "# 不同方法提取一个随机数组的整数部分\n",
        "Z = np.random.uniform(0, 10, 10)\n",
        "print(\"原始值: \", Z)\n",
        "\n",
        "print(\"方法 1: \", Z - Z % 1)\n",
        "print(\"方法 2: \", np.floor(Z))\n",
        "print(\"方法 3: \", np.ceil(Z)-1)\n",
        "print(\"方法 4: \", Z.astype(int))\n",
        "print(\"方法 5: \", np.trunc(Z))"
      ],
      "execution_count": 48,
      "outputs": [
        {
          "output_type": "stream",
          "text": [
            "原始值:  [2.31782681 9.24435627 9.44716953 8.66540252 8.66708575 6.89673315\n",
            " 5.74769827 2.93667823 8.34290259 7.04235737]\n",
            "方法 1:  [2. 9. 9. 8. 8. 6. 5. 2. 8. 7.]\n",
            "方法 2:  [2. 9. 9. 8. 8. 6. 5. 2. 8. 7.]\n",
            "方法 3:  [2. 9. 9. 8. 8. 6. 5. 2. 8. 7.]\n",
            "方法 4:  [2 9 9 8 8 6 5 2 8 7]\n",
            "方法 5:  [2. 9. 9. 8. 8. 6. 5. 2. 8. 7.]\n"
          ],
          "name": "stdout"
        }
      ]
    },
    {
      "cell_type": "code",
      "metadata": {
        "id": "gVoHcqtTF3mt",
        "colab_type": "code",
        "colab": {
          "base_uri": "https://localhost:8080/",
          "height": 185
        },
        "outputId": "7f3fcee2-cdd8-49d9-d8f0-73343a3aa143"
      },
      "source": [
        "#  将二维数组的前两行进行顺序交换\n",
        "A = np.arange(25).reshape(5, 5)\n",
        "print(A)\n",
        "A[[0, 1]] = A[[1, 0]]\n",
        "print(A)"
      ],
      "execution_count": 49,
      "outputs": [
        {
          "output_type": "stream",
          "text": [
            "[[ 0  1  2  3  4]\n",
            " [ 5  6  7  8  9]\n",
            " [10 11 12 13 14]\n",
            " [15 16 17 18 19]\n",
            " [20 21 22 23 24]]\n",
            "[[ 5  6  7  8  9]\n",
            " [ 0  1  2  3  4]\n",
            " [10 11 12 13 14]\n",
            " [15 16 17 18 19]\n",
            " [20 21 22 23 24]]\n"
          ],
          "name": "stdout"
        }
      ]
    },
    {
      "cell_type": "code",
      "metadata": {
        "id": "QRnYfTltGIX8",
        "colab_type": "code",
        "colab": {
          "base_uri": "https://localhost:8080/",
          "height": 34
        },
        "outputId": "66cc47f6-9721-4bae-cd63-23e9056da015"
      },
      "source": [
        "# 找出给定一维数组中非 0 元素的位置索引\n",
        "Z = np.nonzero([1, 0, 2, 0, 1, 0, 4, 0])\n",
        "Z"
      ],
      "execution_count": 50,
      "outputs": [
        {
          "output_type": "execute_result",
          "data": {
            "text/plain": [
              "(array([0, 2, 4, 6]),)"
            ]
          },
          "metadata": {
            "tags": []
          },
          "execution_count": 50
        }
      ]
    },
    {
      "cell_type": "code",
      "metadata": {
        "id": "fx1wilHaGM8m",
        "colab_type": "code",
        "colab": {
          "base_uri": "https://localhost:8080/",
          "height": 185
        },
        "outputId": "4100b312-b47e-46ca-e39e-2be0775c6688"
      },
      "source": [
        "# 对于二维随机数组中各元素，保留其 2 位小数\n",
        "Z = np.random.random((5, 5))\n",
        "print(Z)\n",
        "\n",
        "np.set_printoptions(precision=2)\n",
        "Z"
      ],
      "execution_count": 51,
      "outputs": [
        {
          "output_type": "stream",
          "text": [
            "[[0.59204052 0.74380552 0.18240923 0.58224648 0.65608683]\n",
            " [0.48360224 0.05815565 0.99825605 0.02436148 0.88259058]\n",
            " [0.58909763 0.6223073  0.20417286 0.36216227 0.2539131 ]\n",
            " [0.97005343 0.12648269 0.07766655 0.52066986 0.88684419]\n",
            " [0.82607178 0.79095118 0.52982949 0.93824204 0.6777357 ]]\n"
          ],
          "name": "stdout"
        },
        {
          "output_type": "execute_result",
          "data": {
            "text/plain": [
              "array([[0.59, 0.74, 0.18, 0.58, 0.66],\n",
              "       [0.48, 0.06, 1.  , 0.02, 0.88],\n",
              "       [0.59, 0.62, 0.2 , 0.36, 0.25],\n",
              "       [0.97, 0.13, 0.08, 0.52, 0.89],\n",
              "       [0.83, 0.79, 0.53, 0.94, 0.68]])"
            ]
          },
          "metadata": {
            "tags": []
          },
          "execution_count": 51
        }
      ]
    },
    {
      "cell_type": "code",
      "metadata": {
        "id": "CyFHFOUTGYC_",
        "colab_type": "code",
        "colab": {
          "base_uri": "https://localhost:8080/",
          "height": 50
        },
        "outputId": "b154972d-0d72-40cb-8533-a46936d2bcfe"
      },
      "source": [
        "# 将数组中各元素按指定分类转换为文本值\n",
        "# 指定类别如下\n",
        "# 1 → 汽车\n",
        "# 2 → 公交车\n",
        "# 3 → 火车\n",
        "\n",
        "Z = np.random.randint(1, 4, 10)\n",
        "print(Z)\n",
        "\n",
        "label_map = {1: \"汽车\", 2: \"公交车\", 3: \"火车\"}\n",
        "\n",
        "[label_map[x] for x in Z]"
      ],
      "execution_count": 52,
      "outputs": [
        {
          "output_type": "stream",
          "text": [
            "[1 1 2 2 3 2 3 1 1 3]\n"
          ],
          "name": "stdout"
        },
        {
          "output_type": "execute_result",
          "data": {
            "text/plain": [
              "['汽车', '汽车', '公交车', '公交车', '火车', '公交车', '火车', '汽车', '汽车', '火车']"
            ]
          },
          "metadata": {
            "tags": []
          },
          "execution_count": 52
        }
      ]
    },
    {
      "cell_type": "code",
      "metadata": {
        "id": "uJFn_EsOGfDP",
        "colab_type": "code",
        "colab": {
          "base_uri": "https://localhost:8080/",
          "height": 118
        },
        "outputId": "934df3dc-756e-4732-eef9-0199e15c7ac5"
      },
      "source": [
        "# 得到二维随机数组各行的最大值\n",
        "Z = np.random.randint(1, 100, [5, 5])\n",
        "print(Z)\n",
        "\n",
        "np.amax(Z, axis=1)  # amin同理"
      ],
      "execution_count": 53,
      "outputs": [
        {
          "output_type": "stream",
          "text": [
            "[[57 84 81 37 40]\n",
            " [71 59 35 48 72]\n",
            " [54 28 54 41 86]\n",
            " [66 41 92 43 82]\n",
            " [89 98 34 20 54]]\n"
          ],
          "name": "stdout"
        },
        {
          "output_type": "execute_result",
          "data": {
            "text/plain": [
              "array([84, 72, 86, 92, 98])"
            ]
          },
          "metadata": {
            "tags": []
          },
          "execution_count": 53
        }
      ]
    },
    {
      "cell_type": "code",
      "metadata": {
        "id": "2cg6yhXCGvoB",
        "colab_type": "code",
        "colab": {
          "base_uri": "https://localhost:8080/",
          "height": 50
        },
        "outputId": "fc5c3952-7167-4e56-96e6-e4ea61a806c7"
      },
      "source": [
        "# 将 Ndarray 相邻元素依次累加\n",
        "Z = np.random.randint(1, 10, 10)\n",
        "print(Z)\n",
        "\n",
        "\"\"\"\n",
        "[第一个元素, 第一个元素 + 第二个元素, 第一个元素 + 第二个元素 + 第三个元素, ...]\n",
        "\"\"\"\n",
        "np.cumsum(Z)"
      ],
      "execution_count": 54,
      "outputs": [
        {
          "output_type": "stream",
          "text": [
            "[8 4 3 8 7 4 5 1 9 6]\n"
          ],
          "name": "stdout"
        },
        {
          "output_type": "execute_result",
          "data": {
            "text/plain": [
              "array([ 8, 12, 15, 23, 30, 34, 39, 40, 49, 55])"
            ]
          },
          "metadata": {
            "tags": []
          },
          "execution_count": 54
        }
      ]
    },
    {
      "cell_type": "code",
      "metadata": {
        "id": "BYdIVq7PG1BF",
        "colab_type": "code",
        "colab": {
          "base_uri": "https://localhost:8080/",
          "height": 67
        },
        "outputId": "60e6300f-9b32-40fb-8409-c1340b3e4b06"
      },
      "source": [
        "# 按列连接两个数组\n",
        "M1 = np.array([1, 2, 3])\n",
        "M2 = np.array([4, 5, 6])\n",
        "\n",
        "np.c_[M1, M2]"
      ],
      "execution_count": 55,
      "outputs": [
        {
          "output_type": "execute_result",
          "data": {
            "text/plain": [
              "array([[1, 4],\n",
              "       [2, 5],\n",
              "       [3, 6]])"
            ]
          },
          "metadata": {
            "tags": []
          },
          "execution_count": 55
        }
      ]
    },
    {
      "cell_type": "code",
      "metadata": {
        "id": "KSDOd8ITG5y4",
        "colab_type": "code",
        "colab": {
          "base_uri": "https://localhost:8080/",
          "height": 34
        },
        "outputId": "a43f0543-c395-41e9-afa2-855526f33931"
      },
      "source": [
        "# 按行连接两个数组\n",
        "M1 = np.array([1, 2, 3])\n",
        "M2 = np.array([4, 5, 6])\n",
        "\n",
        "np.r_[M1, M2]"
      ],
      "execution_count": 56,
      "outputs": [
        {
          "output_type": "execute_result",
          "data": {
            "text/plain": [
              "array([1, 2, 3, 4, 5, 6])"
            ]
          },
          "metadata": {
            "tags": []
          },
          "execution_count": 56
        }
      ]
    }
  ]
}