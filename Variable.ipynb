{
  "nbformat": 4,
  "nbformat_minor": 0,
  "metadata": {
    "colab": {
      "name": "Untitled0.ipynb",
      "version": "0.3.2",
      "provenance": [],
      "include_colab_link": true
    },
    "kernelspec": {
      "name": "python3",
      "display_name": "Python 3"
    }
  },
  "cells": [
    {
      "cell_type": "markdown",
      "metadata": {
        "id": "view-in-github",
        "colab_type": "text"
      },
      "source": [
        "<a href=\"https://colab.research.google.com/github/LeonZou7/TF-Study-Log/blob/master/Variable.ipynb\" target=\"_parent\"><img src=\"https://colab.research.google.com/assets/colab-badge.svg\" alt=\"Open In Colab\"/></a>"
      ]
    },
    {
      "cell_type": "code",
      "metadata": {
        "id": "jTuaZsKNTmqG",
        "colab_type": "code",
        "outputId": "bed8dcf0-28d3-4553-d66d-637688e5a900",
        "colab": {
          "base_uri": "https://localhost:8080/",
          "height": 67
        }
      },
      "source": [
        "# Example of variable\n",
        "\n",
        "import tensorflow as tf\n",
        "\n",
        "state = tf.Variable(0, name = 'counter')\n",
        "one = tf.constant(2)\n",
        "\n",
        "new_value = tf.add(state, one)\n",
        "update = tf.assign(state, new_value)\n",
        "\n",
        " # assign可看作 '='，它将二参数值赋给一参。\n",
        " # 但由于在TF中，所有的变量或常量等都是Operation，所以需要在Session中运行才有效。\n",
        "\n",
        "# !!!!!must have if define variables\n",
        "init = tf.global_variables_initializer()\n",
        "\n",
        "with tf.Session() as sess:\n",
        "  sess.run(init)\n",
        "  for step in range(3):\n",
        "    sess.run(update)\n",
        "    print(sess.run(state))"
      ],
      "execution_count": 4,
      "outputs": [
        {
          "output_type": "stream",
          "text": [
            "2\n",
            "4\n",
            "6\n"
          ],
          "name": "stdout"
        }
      ]
    }
  ]
}